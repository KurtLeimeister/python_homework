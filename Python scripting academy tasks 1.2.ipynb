{
 "cells": [
  {
   "cell_type": "markdown",
   "metadata": {},
   "source": [
    "## Python scripting academy 1.2\n",
    "Kurt"
   ]
  },
  {
   "cell_type": "markdown",
   "metadata": {},
   "source": [
    "#### Task 1"
   ]
  },
  {
   "cell_type": "code",
   "execution_count": 6,
   "metadata": {},
   "outputs": [
    {
     "name": "stdout",
     "output_type": "stream",
     "text": [
      "Double quote string\n",
      "Single quote String\n"
     ]
    }
   ],
   "source": [
    "# Strings with single and double quotes\n",
    "print(\"Double quote string\")\n",
    "print('Single quote \\\n",
    "String')"
   ]
  },
  {
   "cell_type": "markdown",
   "metadata": {},
   "source": [
    "#### Task 2 - integers"
   ]
  },
  {
   "cell_type": "code",
   "execution_count": 16,
   "metadata": {},
   "outputs": [
    {
     "name": "stdout",
     "output_type": "stream",
     "text": [
      "1234\n",
      "1001110101\n"
     ]
    }
   ],
   "source": [
    "# Numbers\n",
    "# printing an integer\n",
    "print(1234)\n",
    "# printing a string made of integer characters\n",
    "print('1001110101')"
   ]
  },
  {
   "cell_type": "markdown",
   "metadata": {},
   "source": [
    "#### Task 3 - Variables"
   ]
  },
  {
   "cell_type": "code",
   "execution_count": 22,
   "metadata": {},
   "outputs": [
    {
     "name": "stdout",
     "output_type": "stream",
     "text": [
      "Run this cell using Ctrl+Enter\n",
      "The latest, greatest, raddest message\n"
     ]
    }
   ],
   "source": [
    "# Step 0: assigning the varriable current_msg\n",
    "# the value provided in the instructions\n",
    "current_msg = \"Run this cell using Ctrl+Enter\"\n",
    "# First: print the variable current_msg\n",
    "print(current_msg)\n",
    "# Second: assign a new value, print again\n",
    "current_msg = 'The latest, greatest, raddest message'\n",
    "print(current_msg)"
   ]
  },
  {
   "cell_type": "markdown",
   "metadata": {},
   "source": [
    "#### Task 4: Multi-Part"
   ]
  },
  {
   "cell_type": "code",
   "execution_count": 23,
   "metadata": {},
   "outputs": [
    {
     "name": "stdout",
     "output_type": "stream",
     "text": [
      "Donald Duck\n"
     ]
    }
   ],
   "source": [
    "# a) Assign a variable and print the value\n",
    "student_name = \"Donald Duck\"\n",
    "print(student_name)"
   ]
  },
  {
   "cell_type": "code",
   "execution_count": 26,
   "metadata": {},
   "outputs": [
    {
     "name": "stdout",
     "output_type": "stream",
     "text": [
      "Daniel Düsentrieb\n",
      "Dagobert Duck\n"
     ]
    }
   ],
   "source": [
    "# [ ] assign the student_name variable  a different string value (a different name)\n",
    "student_name = 'Daniel Düsentrieb'\n",
    "# [ ] print the value of variable student_name\n",
    "print(student_name)\n",
    "# [ ] assign a 3rd different string value, to the variable name \n",
    "name = 'Dagobert Duck'\n",
    "# [ ] print the value of variable name\n",
    "print(name)"
   ]
  },
  {
   "cell_type": "code",
   "execution_count": 28,
   "metadata": {},
   "outputs": [
    {
     "name": "stdout",
     "output_type": "stream",
     "text": [
      "{'i', 's', 'l', 't'}\n",
      "42\n"
     ]
    }
   ],
   "source": [
    "# [ ] assigning a value to a variable called bucket\n",
    "bucket = {'l','i','s','t'}\n",
    "# [ ] print the value of bucket \n",
    "print(bucket)\n",
    "# [ ] assign an Integer value (no quotes) to the variable bucket\n",
    "bucket = 42\n",
    "# [ ] print the value of bucket \n",
    "print(bucket)"
   ]
  },
  {
   "cell_type": "code",
   "execution_count": 44,
   "metadata": {},
   "outputs": [
    {
     "name": "stdout",
     "output_type": "stream",
     "text": [
      "{1, 2, 3, 4}\n",
      "{'i', 's', 'l', 't'}\n",
      "<class 'set'>\n",
      "['i', 's', 'l', 't']\n",
      "<class 'list'>\n",
      "['i', 's', 'l', 't']\n",
      "<class 'list'>\n"
     ]
    }
   ],
   "source": [
    "# not what I expected when printing the set\n",
    "# let's try again\n",
    "bucket = {'l','i','s','t'}\n",
    "print({1,2,3,4})\n",
    "print({'l','i','s','t'})\n",
    "print(type(bucket))\n",
    "# maybe as a list?\n",
    "bucket2 = list(bucket)\n",
    "print(bucket2)\n",
    "print(type(bucket2))\n",
    "bucket3 = list({'l','i','s','t'})\n",
    "print(bucket3)\n",
    "print(type(bucket3))"
   ]
  },
  {
   "cell_type": "code",
   "execution_count": 68,
   "metadata": {},
   "outputs": [
    {
     "name": "stdout",
     "output_type": "stream",
     "text": [
      "<class 'list'>\n",
      "finally...\n"
     ]
    },
    {
     "data": {
      "text/plain": [
       "'t'"
      ]
     },
     "execution_count": 68,
     "metadata": {},
     "output_type": "execute_result"
    }
   ],
   "source": [
    "# this is getting annoying...\n",
    "# trying to make a list of characters that stays in order\n",
    "bucket4=['l','i','s','t']\n",
    "bucket4\n",
    "print(type(bucket4))\n",
    "print('finally...')\n",
    "bucket4[3]"
   ]
  },
  {
   "cell_type": "code",
   "execution_count": 66,
   "metadata": {},
   "outputs": [
    {
     "name": "stdout",
     "output_type": "stream",
     "text": [
      "123\n",
      "123\n"
     ]
    }
   ],
   "source": [
    "# [ ] print integer 123 number\n",
    "print(123)\n",
    "# [ ] print string \"123\" number\n",
    "print('123')"
   ]
  },
  {
   "cell_type": "code",
   "execution_count": null,
   "metadata": {},
   "outputs": [],
   "source": []
  }
 ],
 "metadata": {
  "kernelspec": {
   "display_name": "Python 3",
   "language": "python",
   "name": "python3"
  },
  "language_info": {
   "codemirror_mode": {
    "name": "ipython",
    "version": 3
   },
   "file_extension": ".py",
   "mimetype": "text/x-python",
   "name": "python",
   "nbconvert_exporter": "python",
   "pygments_lexer": "ipython3",
   "version": "3.7.0"
  }
 },
 "nbformat": 4,
 "nbformat_minor": 2
}
