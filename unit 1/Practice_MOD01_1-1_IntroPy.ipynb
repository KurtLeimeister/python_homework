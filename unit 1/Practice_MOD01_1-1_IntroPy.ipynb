{
 "cells": [
  {
   "cell_type": "markdown",
   "metadata": {
    "collapsed": true
   },
   "source": [
    "# 1-1 Intro Python Practice\n",
    "##  Getting started with Python in Jupyter Notebooks\n",
    "### notebooks, comments, print(), type(), addition, errors and art\n",
    "\n",
    "<font size=\"5\" color=\"#00A0B2\"  face=\"verdana\"> <B>Student will be able to</B></font>\n",
    "- use Python 3 in Jupyter notebooks\n",
    "- write working code using `print()` and `#` comments  \n",
    "- write working code using `type()` and variables\n",
    "- combine strings using string addition (+)\n",
    "- add numbers in code (+)\n",
    "- troubleshoot errors\n",
    "- create character art  \n",
    "\n",
    "# &nbsp;\n",
    ">**note:** the **[ ]** indicates student has a task to complete  \n",
    "  \n",
    ">**reminder:** to run code and save changes: student should upload or clone a copy of notebooks \n",
    "\n",
    "#### notebook use\n",
    "- [ ] insert a **code cell** below   \n",
    "- [ ] enter the following Python code, including the comment: \n",
    "```python \n",
    "# [ ] print 'Hello!' and remember to save notebook!\n",
    "print('Hello!')\n",
    "```\n",
    "Then run the code - the output should be:  \n",
    "`Hello!`"
   ]
  },
  {
   "cell_type": "code",
   "execution_count": 1,
   "metadata": {},
   "outputs": [
    {
     "name": "stdout",
     "output_type": "stream",
     "text": [
      "Hello!\n"
     ]
    }
   ],
   "source": [
    "# [ ] print 'Hello!' and remember to save notebook!\n",
    "print('Hello!')"
   ]
  },
  {
   "cell_type": "markdown",
   "metadata": {},
   "source": [
    "#### run the cell below   \n",
    "- [ ] use **Ctrl + Enter**  \n",
    "- [ ] use **Shift + Enter**    "
   ]
  },
  {
   "cell_type": "code",
   "execution_count": 2,
   "metadata": {},
   "outputs": [
    {
     "name": "stdout",
     "output_type": "stream",
     "text": [
      "watch for the cat\n"
     ]
    }
   ],
   "source": [
    "print('watch for the cat')"
   ]
  },
  {
   "cell_type": "markdown",
   "metadata": {},
   "source": [
    "#### Student's Notebook editing\n",
    "- [ ] Edit **this** notebook Markdown cell replacing the word \"Student's\" above with your name\n",
    "- [ ] Run the cell to display the formatted text\n",
    "- [ ] Run any 'markdown' cells that are in edit mode, so they are easier to read"
   ]
  },
  {
   "cell_type": "code",
   "execution_count": 6,
   "metadata": {},
   "outputs": [
    {
     "name": "stdout",
     "output_type": "stream",
     "text": [
      "Run as a code cell\n"
     ]
    }
   ],
   "source": [
    "#### [ ] convert \\*this\\* cell from markdown to a code cell, then run it  \n",
    "print('Run as a code cell')"
   ]
  },
  {
   "cell_type": "markdown",
   "metadata": {},
   "source": [
    "##  # comments\n",
    "create a code comment that identifies this notebook, containing your name and the date"
   ]
  },
  {
   "cell_type": "code",
   "execution_count": 5,
   "metadata": {},
   "outputs": [],
   "source": [
    "# Python academy unit 1\n",
    "# Module 1.1 practice\n",
    "# Kurt, 2010-10-22"
   ]
  },
  {
   "cell_type": "markdown",
   "metadata": {},
   "source": [
    "#### use print() to \n",
    "- [ ] print [**your_name**]\n",
    "- [ ] print **is using python!**"
   ]
  },
  {
   "cell_type": "code",
   "execution_count": 8,
   "metadata": {},
   "outputs": [
    {
     "name": "stdout",
     "output_type": "stream",
     "text": [
      "Kurt\n",
      "is using Python!\n"
     ]
    }
   ],
   "source": [
    "# [ ] print your name\n",
    "print('Kurt')\n",
    "# [ ] print \"is using Python\"\n",
    "print('is using Python!')\n"
   ]
  },
  {
   "cell_type": "markdown",
   "metadata": {},
   "source": [
    "Output above should be:  \n",
    "`Your Name  \n",
    "is using Python!`  "
   ]
  },
  {
   "cell_type": "markdown",
   "metadata": {},
   "source": [
    "#### use variables in print()\n",
    "- [ ] create a variable **your_name** and assign it a string containing your name\n",
    "- [ ] print **your_name**"
   ]
  },
  {
   "cell_type": "code",
   "execution_count": 9,
   "metadata": {},
   "outputs": [
    {
     "name": "stdout",
     "output_type": "stream",
     "text": [
      "Kurt\n"
     ]
    }
   ],
   "source": [
    "# [ ] create a variable your_name and assign it a sting containing your name\n",
    "your_name='Kurt'\n",
    "#[ ] print your_name\n",
    "print(your_name)\n"
   ]
  },
  {
   "cell_type": "markdown",
   "metadata": {},
   "source": [
    "#### create more string variables\n",
    "- **[ ]** create variables as directed below\n",
    "- **[ ]** print the variables"
   ]
  },
  {
   "cell_type": "code",
   "execution_count": 10,
   "metadata": {},
   "outputs": [
    {
     "name": "stdout",
     "output_type": "stream",
     "text": [
      "superfreak\n",
      "47\n",
      "42\n"
     ]
    }
   ],
   "source": [
    "# [ ] create variables and assign values for: favorite_song, shoe_size, lucky_number\n",
    "favorite_song, shoe_size, lucky_number = 'superfreak', 47, 42\n",
    "\n",
    "# [ ] print the value of each variable favorite_song, shoe_size, and lucky_number\n",
    "print(favorite_song)\n",
    "print(shoe_size)\n",
    "print(lucky_number)"
   ]
  },
  {
   "cell_type": "markdown",
   "metadata": {},
   "source": [
    "#### use string addition\n",
    "- **[ ]**  print the above string variables (favorite_song, shoe_size, lucky_number) combined with a description by using **string addition**\n",
    ">for example favorite_song displayed as:  \n",
    "`favorite song is happy birthday`"
   ]
  },
  {
   "cell_type": "code",
   "execution_count": 12,
   "metadata": {},
   "outputs": [
    {
     "name": "stdout",
     "output_type": "stream",
     "text": [
      "favorite song: superfreak\n",
      "shoe size (eur): 47\n",
      "lucky number: 42\n"
     ]
    }
   ],
   "source": [
    "# [ ] print favorite_song with description\n",
    "print('favorite song: '+favorite_song)\n",
    "\n",
    "# [ ] print shoe_size with description\n",
    "print('shoe size (eur): ' + str(shoe_size))\n",
    "\n",
    "# [ ] print lucky_number with description\n",
    "print('lucky number: ' + str(lucky_number))\n"
   ]
  },
  {
   "cell_type": "markdown",
   "metadata": {},
   "source": [
    "##### more string addition\n",
    "- **[ ]** make a single string (sentence) in a variable called favorite_lucky_shoe using **string addition** with favorite_song, shoe_size, lucky_number variables and other strings as needed \n",
    "- **[ ]** print the value of the favorite_lucky_shoe variable string\n",
    "> sample output:  \n",
    "`For singing happy birthday 8.5 times, you will be fined $25`"
   ]
  },
  {
   "cell_type": "code",
   "execution_count": 13,
   "metadata": {},
   "outputs": [
    {
     "name": "stdout",
     "output_type": "stream",
     "text": [
      "Shouting \"superfreak\" anywhere between 42 and 47 times will summon the magical superfreak fairy. Just try!\n"
     ]
    }
   ],
   "source": [
    "# assign favorite_lucky_shoe using\n",
    "\n",
    "print('Shouting \"'+favorite_song+'\" anywhere between '+str(lucky_number)+\\\n",
    "' and ' + str(shoe_size) + ' times will summon the magical ' +\\\n",
    "      favorite_song + ' fairy. Just try!')\n"
   ]
  },
  {
   "cell_type": "markdown",
   "metadata": {},
   "source": [
    "### print() art"
   ]
  },
  {
   "cell_type": "markdown",
   "metadata": {},
   "source": [
    "#### use `print()` and the asterisk **\\*** to create the following shapes\n",
    "- [ ] diagonal line  \n",
    "- [ ] rectangle  \n",
    "- [ ] smiley face"
   ]
  },
  {
   "cell_type": "code",
   "execution_count": 23,
   "metadata": {},
   "outputs": [
    {
     "name": "stdout",
     "output_type": "stream",
     "text": [
      "*\n",
      " *\n",
      "  *\n",
      "   *\n",
      "    *\n",
      "     *\n",
      "      *\n",
      "       *\n",
      "        *\n",
      "         *\n",
      "          *\n",
      "           *\n",
      "            *\n",
      "             *\n",
      "              *\n",
      "               *\n",
      "                *\n",
      "                 *\n",
      "                  *\n",
      "                   *\n",
      "                    *\n",
      "                     *\n",
      "                      *\n",
      "                       *\n",
      "                        *\n",
      "                         *\n",
      "                          *\n",
      "                           *\n",
      "                            *\n",
      "                             *\n",
      "                              *\n",
      "                               *\n",
      "                                *\n",
      "                                 *\n",
      "                                  *\n",
      "                                   *\n",
      "                                    *\n",
      "                                     *\n",
      "                                      *\n",
      "                                       *\n",
      "                                        *\n",
      "                                         *\n",
      "                                          *\n",
      "                                           *\n",
      "                                            *\n",
      "                                             *\n",
      "                                              *\n",
      "                                               *\n",
      "                                                *\n",
      "                                                 *\n",
      "******\n",
      "*    *\n",
      "*    *\n",
      "******\n",
      "\n",
      "\n",
      "                    ****                  ****\n",
      "                 *        *            *        *\n",
      "                *           *         *           *\n",
      "                     **                    **\n",
      "                   *    *                *    *\n",
      "                  *      *              *      *\n",
      "                  *      *              *      *\n",
      "                  *    ***              *    ***\n",
      "                  *   ****              *   ****\n",
      "                   * ****                * ****\n",
      "                    ***         ***       ***\n",
      "                               *   *\n",
      "                               *   *\n",
      "                **              ***             **\n",
      "              **                                  **\n",
      "            ***                                    ***\n",
      "               **                                **\n",
      "                 **                             **\n",
      "                   ****                      ****\n",
      "                        ***               ***\n",
      "                            ****     ***\n",
      "\n",
      "\n"
     ]
    }
   ],
   "source": [
    "# [ ] print a diagonal using \"*\"\n",
    "for i in range(50):\n",
    "    print(i*' '+'*')\n",
    "\n",
    "# [ ] rectangle using \"*\"\n",
    "print('*'*6)\n",
    "print('*    *')\n",
    "print('*    *')\n",
    "print('******')\n",
    "\n",
    "# [ ] smiley using \"*\"\n",
    "# source: http://loveascii.com/smilies.html\n",
    "print('')\n",
    "print('')\n",
    "print('                    ****                  ****')\n",
    "print('                 *        *            *        *')\n",
    "print('                *           *         *           *')\n",
    "print('                     **                    **')\n",
    "print('                   *    *                *    *')\n",
    "print('                  *      *              *      *')\n",
    "print('                  *      *              *      *')\n",
    "print('                  *    ***              *    ***')\n",
    "print('                  *   ****              *   ****')\n",
    "print('                   * ****                * ****')\n",
    "print('                    ***         ***       ***')\n",
    "print('                               *   *')\n",
    "print('                               *   *')\n",
    "print('                **              ***             **')\n",
    "print('              **                                  **')\n",
    "print('            ***                                    ***')\n",
    "print('               **                                **')\n",
    "print('                 **                             **')\n",
    "print('                   ****                      ****')\n",
    "print('                        ***               ***')\n",
    "print('                            ****     ***')\n",
    "print('')\n",
    "print('')"
   ]
  },
  {
   "cell_type": "markdown",
   "metadata": {},
   "source": [
    "#### Using `type()`\n",
    "-**[ ]** calulate the *type* using `type()`"
   ]
  },
  {
   "cell_type": "code",
   "execution_count": 26,
   "metadata": {},
   "outputs": [
    {
     "data": {
      "text/plain": [
       "str"
      ]
     },
     "execution_count": 26,
     "metadata": {},
     "output_type": "execute_result"
    }
   ],
   "source": [
    "# [ ] display the type of 'your name' (use single quotes)\n",
    "\n",
    "type('your name')"
   ]
  },
  {
   "cell_type": "code",
   "execution_count": 27,
   "metadata": {},
   "outputs": [
    {
     "data": {
      "text/plain": [
       "str"
      ]
     },
     "execution_count": 27,
     "metadata": {},
     "output_type": "execute_result"
    }
   ],
   "source": [
    "# [ ] display the type of \"save your notebook!\" (use double quotes)\n",
    "\n",
    "type(\"save your notebook!\" )"
   ]
  },
  {
   "cell_type": "code",
   "execution_count": 30,
   "metadata": {},
   "outputs": [
    {
     "data": {
      "text/plain": [
       "str"
      ]
     },
     "execution_count": 30,
     "metadata": {},
     "output_type": "execute_result"
    }
   ],
   "source": [
    "# [ ] display the type of \"25\" (use quotes)\n",
    "\n",
    "type(\"25\")"
   ]
  },
  {
   "cell_type": "code",
   "execution_count": 31,
   "metadata": {},
   "outputs": [
    {
     "data": {
      "text/plain": [
       "str"
      ]
     },
     "execution_count": 31,
     "metadata": {},
     "output_type": "execute_result"
    }
   ],
   "source": [
    "# [ ] display the type of \"save your notebook \" + 'your name'\n",
    "\n",
    "type(\"save your notebook \"+'Kurt')"
   ]
  },
  {
   "cell_type": "code",
   "execution_count": 32,
   "metadata": {},
   "outputs": [
    {
     "data": {
      "text/plain": [
       "int"
      ]
     },
     "execution_count": 32,
     "metadata": {},
     "output_type": "execute_result"
    }
   ],
   "source": [
    "# [ ] display the type of 25 (no quotes)\n",
    "\n",
    "type(25)"
   ]
  },
  {
   "cell_type": "code",
   "execution_count": 33,
   "metadata": {},
   "outputs": [
    {
     "data": {
      "text/plain": [
       "int"
      ]
     },
     "execution_count": 33,
     "metadata": {},
     "output_type": "execute_result"
    }
   ],
   "source": [
    "# [ ] display the type of 25 + 10 \n",
    "\n",
    "type(25+10)"
   ]
  },
  {
   "cell_type": "code",
   "execution_count": 34,
   "metadata": {},
   "outputs": [
    {
     "data": {
      "text/plain": [
       "float"
      ]
     },
     "execution_count": 34,
     "metadata": {},
     "output_type": "execute_result"
    }
   ],
   "source": [
    "# [ ] display the type of 1.55\n",
    "\n",
    "type(1.55)"
   ]
  },
  {
   "cell_type": "code",
   "execution_count": 42,
   "metadata": {},
   "outputs": [
    {
     "data": {
      "text/plain": [
       "float"
      ]
     },
     "execution_count": 42,
     "metadata": {},
     "output_type": "execute_result"
    }
   ],
   "source": [
    "# [ ] display the type of 1.55 + 25\n",
    "\n",
    "type(1.55 + 25)"
   ]
  },
  {
   "cell_type": "code",
   "execution_count": 43,
   "metadata": {},
   "outputs": [
    {
     "data": {
      "text/plain": [
       "int"
      ]
     },
     "execution_count": 43,
     "metadata": {},
     "output_type": "execute_result"
    }
   ],
   "source": [
    "# [ ] display the type of round(1.0)\n",
    "\n",
    "type(round(1.0))"
   ]
  },
  {
   "cell_type": "markdown",
   "metadata": {},
   "source": [
    "#### Find the type of variables\n",
    "- **[ ]** run the cell below to make the variables available to be used in other code\n",
    "- **[ ]** display the data type as directed in the cells that follow"
   ]
  },
  {
   "cell_type": "code",
   "execution_count": 44,
   "metadata": {},
   "outputs": [],
   "source": [
    "# assignments ***RUN THIS CELL*** before starting the section\n",
    "\n",
    "student_name = \"Gus\"\n",
    "student_age = 16\n",
    "student_grade = 3.5\n",
    "student_id = \"ABC-000-000\"\n"
   ]
  },
  {
   "cell_type": "code",
   "execution_count": 46,
   "metadata": {},
   "outputs": [
    {
     "data": {
      "text/plain": [
       "str"
      ]
     },
     "execution_count": 46,
     "metadata": {},
     "output_type": "execute_result"
    }
   ],
   "source": [
    "# [ ] display the current type of the variable student_name\n",
    "type(student_name)"
   ]
  },
  {
   "cell_type": "code",
   "execution_count": 47,
   "metadata": {},
   "outputs": [
    {
     "data": {
      "text/plain": [
       "int"
      ]
     },
     "execution_count": 47,
     "metadata": {},
     "output_type": "execute_result"
    }
   ],
   "source": [
    "# [ ] display the type of student_age\n",
    "type(student_age)"
   ]
  },
  {
   "cell_type": "code",
   "execution_count": 48,
   "metadata": {},
   "outputs": [
    {
     "data": {
      "text/plain": [
       "float"
      ]
     },
     "execution_count": 48,
     "metadata": {},
     "output_type": "execute_result"
    }
   ],
   "source": [
    "# [ ] display the type of student_grade\n",
    "type(student_grade)"
   ]
  },
  {
   "cell_type": "code",
   "execution_count": 50,
   "metadata": {},
   "outputs": [
    {
     "data": {
      "text/plain": [
       "float"
      ]
     },
     "execution_count": 50,
     "metadata": {},
     "output_type": "execute_result"
    }
   ],
   "source": [
    "# [ ] display the type of student_age + student_grade\n",
    "type(student_age+student_grade)"
   ]
  },
  {
   "cell_type": "code",
   "execution_count": 49,
   "metadata": {},
   "outputs": [
    {
     "data": {
      "text/plain": [
       "str"
      ]
     },
     "execution_count": 49,
     "metadata": {},
     "output_type": "execute_result"
    }
   ],
   "source": [
    "# [ ] display the current type of student_id\n",
    "type(student_id)"
   ]
  },
  {
   "cell_type": "code",
   "execution_count": 51,
   "metadata": {},
   "outputs": [
    {
     "name": "stdout",
     "output_type": "stream",
     "text": [
      "000ABC-000-000\n"
     ]
    }
   ],
   "source": [
    "# assign new value to student_id \n",
    "student_id = '000'+student_id\n",
    "\n",
    "# [ ] display the current of student_id\n",
    "print(student_id)\n",
    "\n"
   ]
  },
  {
   "cell_type": "markdown",
   "metadata": {
    "collapsed": true
   },
   "source": [
    "#### number integer addition\n",
    "\n",
    "- **[ ]** create variables (x, y, z) with integer values"
   ]
  },
  {
   "cell_type": "code",
   "execution_count": 52,
   "metadata": {},
   "outputs": [],
   "source": [
    "# [ ] create integer variables (x, y, z) and assign them 1-3 digit integers (no decimals - no quotes)\n",
    "x,y,z = 1,2,3"
   ]
  },
  {
   "cell_type": "markdown",
   "metadata": {},
   "source": [
    "- **[ ]** insert a **code cell** below\n",
    "- **[ ]** create an integer variable named **xyz_sum** equal to the sum of x, y, and z\n",
    "- **[ ]** print the value of **xyz_sum** "
   ]
  },
  {
   "cell_type": "code",
   "execution_count": 55,
   "metadata": {},
   "outputs": [
    {
     "name": "stdout",
     "output_type": "stream",
     "text": [
      "6\n"
     ]
    }
   ],
   "source": [
    "xyz_sum=sum([x,y,z])\n",
    "print(xyz_sum)"
   ]
  },
  {
   "cell_type": "markdown",
   "metadata": {},
   "source": [
    "### Errors\n",
    "- **[ ]** troubleshoot and fix the errors below"
   ]
  },
  {
   "cell_type": "code",
   "execution_count": 57,
   "metadata": {},
   "outputs": [
    {
     "name": "stdout",
     "output_type": "stream",
     "text": [
      "Hello World!\n"
     ]
    }
   ],
   "source": [
    "# [ ] fix the error \n",
    "# removed extra \" at the end\n",
    "print(\"Hello World!\")"
   ]
  },
  {
   "cell_type": "code",
   "execution_count": 58,
   "metadata": {},
   "outputs": [
    {
     "name": "stdout",
     "output_type": "stream",
     "text": [
      "strings have quotes and variables have names\n"
     ]
    }
   ],
   "source": [
    "# [ ] fix the error \n",
    "# added quotes\n",
    "print('strings have quotes and variables have names')"
   ]
  },
  {
   "cell_type": "code",
   "execution_count": 59,
   "metadata": {},
   "outputs": [
    {
     "name": "stdout",
     "output_type": "stream",
     "text": [
      "I have $5\n"
     ]
    }
   ],
   "source": [
    "# [ ] fix the error\n",
    "# converted 5 to string\n",
    "print( \"I have $\" + str(5))"
   ]
  },
  {
   "cell_type": "code",
   "execution_count": 61,
   "metadata": {},
   "outputs": [
    {
     "name": "stdout",
     "output_type": "stream",
     "text": [
      "'always save the notebook'\n"
     ]
    }
   ],
   "source": [
    "# [ ] fix the error \n",
    "# added a few quotes\n",
    "print(\"'always save the notebook'\")"
   ]
  },
  {
   "cell_type": "markdown",
   "metadata": {
    "collapsed": true
   },
   "source": [
    "## ASCII art\n",
    "- **[ ]** Display first name or initials as ASCII Art\n",
    "- **[ ]** Challenge: insert an additional code cell to make an ASCII picture"
   ]
  },
  {
   "cell_type": "code",
   "execution_count": 63,
   "metadata": {},
   "outputs": [
    {
     "name": "stdout",
     "output_type": "stream",
     "text": [
      "\n",
      " _   ___   _______ _____ \n",
      "| | / / | | | ___ \\_   _|\n",
      "| |/ /| | | | |_/ / | |  \n",
      "|    \\| | | |    /  | |  \n",
      "| |\\  \\ |_| | |\\ \\  | |  \n",
      "\\_| \\_/\\___/\\_| \\_| \\_/  \n",
      "                        \n",
      "\n"
     ]
    }
   ],
   "source": [
    "# [ ] ASCII ART\n",
    "# from http://patorjk.com/software/taag/#p=display&f=Doom&t=KURT\n",
    "print('')\n",
    "print(' _   ___   _______ _____ ')\n",
    "print('| | / / | | | ___ \\_   _|')\n",
    "print('| |/ /| | | | |_/ / | |  ')\n",
    "print('|    \\| | | |    /  | |  ')\n",
    "print('| |\\  \\ |_| | |\\ \\  | |  ')\n",
    "print('\\_| \\_/\\___/\\_| \\_| \\_/  ')\n",
    "print('                        ')\n",
    "print('')\n"
   ]
  },
  {
   "cell_type": "code",
   "execution_count": 78,
   "metadata": {},
   "outputs": [
    {
     "name": "stdout",
     "output_type": "stream",
     "text": [
      "'\\\\ '\n"
     ]
    }
   ],
   "source": [
    "print(repr(\"\\ \"))"
   ]
  },
  {
   "cell_type": "code",
   "execution_count": 80,
   "metadata": {},
   "outputs": [
    {
     "name": "stdout",
     "output_type": "stream",
     "text": [
      "             .--.  .-\"     \"-.  .--.\n",
      "            / .. \\/  .-. .-.  \\/ .. \\\n",
      "           | |  '|  /   Y   \\  |'  | |\n",
      "           | \\   \\  \\ 0 | 0 /  /   / |\n",
      "            \\ '- ,\\.-\"`` ``\"-./, -' /\n",
      "             `'-' /_   ^ ^   _\\ '-'`\n",
      "             .--'|  \\._ _ _./  |'--.\n",
      "           /`    \\   \\.-.  /   /    `\\\n",
      "          /       '._/  |-' _.'       \\\n",
      "         /          ;  /--~'   |       \\\n",
      "        /        .'\\|.-\\--.     \\       \\\n",
      "       /   .'-. /.-.;\\  |\\|'~'-.|\\       \\\n",
      "       \\       `-./`|_\\_/ `     `\\'.      \\\n",
      "        '.      ;     ___)        '.`;    /\n",
      "          '-.,_ ;     ___)          \\/   /\n",
      "           \\   ``'------'\\       \\   `  /\n",
      "            '.    \\       '.      |   ;/_\n",
      "     jgs  ___>     '.       \\_ _ _/   ,  '--.\n",
      "        .'   '.   .-~~~~~-. /     |--'`~~-.  \\\n",
      "       // / .---'/  .-~~-._/ / / /---..__.'  /\n",
      "      ((_(_/    /  /      (_(_(_(---.__    .'\n",
      "                | |     _              `~~`\n",
      "                | |     \\'.\n",
      "                 \\ '....' |\n",
      "                  '.,___.')\n"
     ]
    }
   ],
   "source": [
    "# [ ] ASCII ART\n",
    "# monkey from http://www.ascii-art.de/ascii/mno/monkey.txt\n",
    "#\n",
    "# Holy mother of escaping... couldn't get it to work with raw strings\n",
    "# replacements\n",
    "# 1. escape double quotes (\" -> \\\")\n",
    "# 2. escape backslashes (\\ -> \\\\)\n",
    "# 3. add print(\"\") statements (\\n -> \")\\nprint(\")\n",
    "print(\"             .--.  .-\\\"     \\\"-.  .--.\")\n",
    "print(\"            / .. \\\\/  .-. .-.  \\\\/ .. \\\\\")\n",
    "print(\"           | |  '|  /   Y   \\\\  |'  | |\")\n",
    "print(\"           | \\\\   \\\\  \\\\ 0 | 0 /  /   / |\")\n",
    "print(\"            \\\\ '- ,\\\\.-\\\"`` ``\\\"-./, -' /\")\n",
    "print(\"             `'-' /_   ^ ^   _\\\\ '-'`\")\n",
    "print(\"             .--'|  \\\\._ _ _./  |'--.\")\n",
    "print(\"           /`    \\\\   \\\\.-.  /   /    `\\\\\")\n",
    "print(\"          /       '._/  |-' _.'       \\\\\")\n",
    "print(\"         /          ;  /--~'   |       \\\\\")\n",
    "print(\"        /        .'\\\\|.-\\\\--.     \\\\       \\\\\")\n",
    "print(\"       /   .'-. /.-.;\\\\  |\\\\|'~'-.|\\\\       \\\\\")\n",
    "print(\"       \\\\       `-./`|_\\\\_/ `     `\\\\'.      \\\\\")\n",
    "print(\"        '.      ;     ___)        '.`;    /\")\n",
    "print(\"          '-.,_ ;     ___)          \\\\/   /\")\n",
    "print(\"           \\\\   ``'------'\\\\       \\\\   `  /\")\n",
    "print(\"            '.    \\\\       '.      |   ;/_\")\n",
    "print(\"     jgs  ___>     '.       \\\\_ _ _/   ,  '--.\")\n",
    "print(\"        .'   '.   .-~~~~~-. /     |--'`~~-.  \\\\\")\n",
    "print(\"       // / .---'/  .-~~-._/ / / /---..__.'  /\")\n",
    "print(\"      ((_(_/    /  /      (_(_(_(---.__    .'\")\n",
    "print(\"                | |     _              `~~`\")\n",
    "print(\"                | |     \\\\'.\")\n",
    "print(\"                 \\\\ '....' |\")\n",
    "print(\"                  '.,___.')\")"
   ]
  },
  {
   "cell_type": "markdown",
   "metadata": {},
   "source": [
    "[Terms of use](http://go.microsoft.com/fwlink/?LinkID=206977) &nbsp; [Privacy & cookies](https://go.microsoft.com/fwlink/?LinkId=521839) &nbsp; © 2017 Microsoft"
   ]
  }
 ],
 "metadata": {
  "anaconda-cloud": {},
  "kernelspec": {
   "display_name": "Python 3",
   "language": "python",
   "name": "python3"
  },
  "language_info": {
   "codemirror_mode": {
    "name": "ipython",
    "version": 3
   },
   "file_extension": ".py",
   "mimetype": "text/x-python",
   "name": "python",
   "nbconvert_exporter": "python",
   "pygments_lexer": "ipython3",
   "version": "3.5.6"
  }
 },
 "nbformat": 4,
 "nbformat_minor": 1
}
