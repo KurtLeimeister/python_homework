{
 "cells": [
  {
   "cell_type": "markdown",
   "metadata": {},
   "source": [
    "# 1-5 Intro Python Practice  \n",
    "## conditionals, type, and mathematics extended   \n",
    "&nbsp;\n",
    "<font size=\"5\" color=\"#00A0B2\"  face=\"verdana\"> <B>Student will be able to</B></font>  \n",
    "- code more than two choices using **`elif`** \n",
    "- gather numeric input using type casting  \n",
    "- perform subtraction, multiplication and division operations in code  &nbsp;  \n"
   ]
  },
  {
   "cell_type": "markdown",
   "metadata": {},
   "source": [
    "# &nbsp;  \n",
    "<font size=\"6\" color=\"#B24C00\"  face=\"verdana\"> <B>Tasks</B></font>"
   ]
  },
  {
   "cell_type": "markdown",
   "metadata": {},
   "source": [
    "### Rainbow colors\n",
    "ask for input of a favorite rainbow color first letter: ROYGBIV  \n",
    "\n",
    "Using `if`, `elif`, and `else`:  \n",
    "- print the color matching the letter  \n",
    "    - R = Red  \n",
    "    - O = Orange  \n",
    "    - Y = Yellow  \n",
    "    - G = Green\n",
    "    - B = Blue\n",
    "    - I = Indigo\n",
    "    - V = Violet\n",
    "    - else print \"no match\"\n"
   ]
  },
  {
   "cell_type": "code",
   "execution_count": 4,
   "metadata": {},
   "outputs": [
    {
     "name": "stdout",
     "output_type": "stream",
     "text": [
      "favorite rainbow color first letter: ROYGBIVV\n",
      "Violet\n"
     ]
    }
   ],
   "source": [
    "# [ ] complete rainbow colors\n",
    "# feeling smart, much elif\n",
    "fav_fab_color=input('favorite rainbow color first letter: ROYGBIV')\n",
    "\n",
    "if fav_fab_color=='R':\n",
    "    print('Red')\n",
    "elif fav_fab_color=='O':\n",
    "    print('Orange')\n",
    "elif fav_fab_color=='Y':\n",
    "    print('Yellow')\n",
    "elif fav_fab_color=='G':\n",
    "    print('Green')\n",
    "elif fav_fab_color=='B':\n",
    "    print('Blue')\n",
    "elif fav_fab_color=='I':\n",
    "    print('Indigo')\n",
    "elif fav_fab_color=='V':\n",
    "    print('Violet')\n",
    "else:\n",
    "    print('no match')"
   ]
  },
  {
   "cell_type": "code",
   "execution_count": 6,
   "metadata": {},
   "outputs": [
    {
     "name": "stdout",
     "output_type": "stream",
     "text": [
      "favorite rainbow color first letter: ROYGBIVI\n",
      "Indigo\n"
     ]
    }
   ],
   "source": [
    "# [ ] make the code above into a function rainbow_color() that has a string parameter, \n",
    "# get input and call the function and return the matching color as a string or \"no match\" message.\n",
    "# Call the function and print the return string.\n",
    "\n",
    "def rainbow_color(color):\n",
    "    if color=='R':\n",
    "        print('Red')\n",
    "    # Too bad I couldnt defile a function with just an elif statement, no if\n",
    "    elif color=='O':\n",
    "        print('Orange')\n",
    "    elif color=='Y':\n",
    "        print('Yellow')\n",
    "    elif color=='G':\n",
    "        print('Green')\n",
    "    elif color=='B':\n",
    "        print('Blue')\n",
    "    elif color=='I':\n",
    "        print('Indigo')\n",
    "    elif color=='V':\n",
    "        print('Violet')\n",
    "    else:\n",
    "        print('no match')\n",
    "        \n",
    "fav_fab_color=input('favorite rainbow color first letter: ROYGBIV')\n",
    "\n",
    "rainbow_color(fav_fab_color)"
   ]
  },
  {
   "cell_type": "markdown",
   "metadata": {},
   "source": [
    "# &nbsp;  \n",
    "**Create function age_20() that adds or subtracts 20 from your age for a return value based on current age** (use `if`) \n",
    "- call the funtion with user input and then use the return value in a sentence  \n",
    "example `age_20(25)` returns **5**: \n",
    "> \"5 years old, 20 years difference from now\""
   ]
  },
  {
   "cell_type": "code",
   "execution_count": 7,
   "metadata": {},
   "outputs": [
    {
     "name": "stdout",
     "output_type": "stream",
     "text": [
      "an, to be young again...\n"
     ]
    }
   ],
   "source": [
    "# [ ] complete age_20()\n",
    "def age_20(current_age):\n",
    "    if current_age>20:\n",
    "        print(current_age-20)\n",
    "    else:\n",
    "        print('an, to be young again...')\n",
    "        \n",
    "age_20(12)"
   ]
  },
  {
   "cell_type": "markdown",
   "metadata": {},
   "source": [
    "**create a function rainbow_or_age that takes a string argument**\n",
    "- if argument is a digit return the value of calling age_20() with the str value cast as **`int`** \n",
    "- if argument is an alphabetical character return the value of calling rainbow_color() with the str\n",
    "- if neither return FALSE"
   ]
  },
  {
   "cell_type": "code",
   "execution_count": 17,
   "metadata": {},
   "outputs": [
    {
     "name": "stdout",
     "output_type": "stream",
     "text": [
      "Orange\n"
     ]
    }
   ],
   "source": [
    "# [ ]  create rainbow_or_age()\n",
    "\n",
    "def rainbow_or_age(userinput):\n",
    "    userinput=str(userinput).upper()\n",
    "    if userinput.isalpha():\n",
    "        rainbow_color(userinput[0])\n",
    "    elif userinput.isdigit():\n",
    "        age_20(int(userinput))\n",
    "    else:\n",
    "        print('Please enter a number of a word.')\n",
    "        \n",
    "rainbow_or_age('olaf')"
   ]
  },
  {
   "cell_type": "code",
   "execution_count": 1,
   "metadata": {},
   "outputs": [
    {
     "name": "stdout",
     "output_type": "stream",
     "text": [
      "Please enter a number: 4\n",
      "Please enter a number: 2\n",
      "numba_1 + numba_2 = 6\n"
     ]
    }
   ],
   "source": [
    "# [ ]  add 2 numbers from input using a cast to integer and display the answer \n",
    "\n",
    "numba_1 = int(input('Please enter a number: '))\n",
    "numba_2 = int(input('Please enter a number: '))\n",
    "\n",
    "print(\"numba_1 + numba_2 =\", str(numba_1+numba_2))"
   ]
  },
  {
   "cell_type": "code",
   "execution_count": 2,
   "metadata": {},
   "outputs": [
    {
     "name": "stdout",
     "output_type": "stream",
     "text": [
      "Please enter a number: 5\n",
      "Please enter a number: 6\n",
      "the answer is... 30\n"
     ]
    }
   ],
   "source": [
    "# [ ] Multiply 2 numbers from input using cast and save the answer as part of a string \"the answer is...\"\n",
    "# display the string using print\n",
    "\n",
    "numba_1 = int(input('Please enter a number: '))\n",
    "numba_2 = int(input('Please enter a number: '))\n",
    "\n",
    "result=numba_1*numba_2\n",
    "\n",
    "print('the answer is...', str(result))"
   ]
  },
  {
   "cell_type": "code",
   "execution_count": 3,
   "metadata": {},
   "outputs": [
    {
     "name": "stdout",
     "output_type": "stream",
     "text": [
      "Please enter a number: 6\n",
      "Please enter a number: 8\n",
      "the answer is... 24.0\n"
     ]
    }
   ],
   "source": [
    "# [ ] get input of 2 numbers and display the average: (num1 + num2) divided by 2\n",
    "\n",
    "numba_1 = int(input('Please enter a number: '))\n",
    "numba_2 = int(input('Please enter a number: '))\n",
    "\n",
    "result=(numba_1*numba_2)/2\n",
    "\n",
    "print('the answer is...', str(result))"
   ]
  },
  {
   "cell_type": "code",
   "execution_count": 4,
   "metadata": {},
   "outputs": [
    {
     "name": "stdout",
     "output_type": "stream",
     "text": [
      "Please enter a number: 4\n",
      "Please enter a number: 6\n",
      "2\n"
     ]
    }
   ],
   "source": [
    "# [ ] get input of 2 numbers and subtract the largest from the smallest (use an if statement to see which is larger)\n",
    "# show the answer\n",
    "\n",
    "numba_1 = int(input('Please enter a number: '))\n",
    "numba_2 = int(input('Please enter a number: '))\n",
    "\n",
    "if numba_1> numba_2:\n",
    "    print(numba_1-numba_2)\n",
    "else:\n",
    "    print(numba_2-numba_1)"
   ]
  },
  {
   "cell_type": "code",
   "execution_count": 13,
   "metadata": {},
   "outputs": [
    {
     "name": "stdout",
     "output_type": "stream",
     "text": [
      "Please enter a number: -6\n",
      "Please enter a number: 5\n",
      "0\n"
     ]
    }
   ],
   "source": [
    "# [ ] Divide a larger number by a smaller number and print the integer part of the result\n",
    "# don't divide by zero! if a zero is input make the result zero\n",
    "# [ ] cast the answer to an integer to cut off the decimals and print the result\n",
    "\n",
    "numba_1 = int(input('Please enter a number: '))\n",
    "numba_2 = int(input('Please enter a number: '))\n",
    "\n",
    "def divider_decider(n1,n2):\n",
    "    if n1==0 or n2==0:\n",
    "        return(0)\n",
    "    elif n1>n2:\n",
    "        return(n1/n2)\n",
    "    # including = case although not mentioned in specifications\n",
    "    else:\n",
    "        return(n2/n1)\n",
    "    \n",
    "    \n",
    "print(int(divider_decider(numba_1,numba_2)))\n",
    "        "
   ]
  },
  {
   "cell_type": "markdown",
   "metadata": {},
   "source": [
    "[Terms of use](http://go.microsoft.com/fwlink/?LinkID=206977) &nbsp; [Privacy & cookies](https://go.microsoft.com/fwlink/?LinkId=521839) &nbsp; © 2017 Microsoft"
   ]
  }
 ],
 "metadata": {
  "anaconda-cloud": {},
  "kernelspec": {
   "display_name": "Python 3",
   "language": "python",
   "name": "python3"
  },
  "language_info": {
   "codemirror_mode": {
    "name": "ipython",
    "version": 3
   },
   "file_extension": ".py",
   "mimetype": "text/x-python",
   "name": "python",
   "nbconvert_exporter": "python",
   "pygments_lexer": "ipython3",
   "version": "3.6.7"
  }
 },
 "nbformat": 4,
 "nbformat_minor": 1
}
