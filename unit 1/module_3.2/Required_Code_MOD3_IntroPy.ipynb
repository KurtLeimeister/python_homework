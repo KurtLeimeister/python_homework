{
 "cells": [
  {
   "cell_type": "markdown",
   "metadata": {
    "collapsed": true
   },
   "source": [
    "#  Module 3 Required Coding Activity  \n",
    "Introduction to Python Unit 1 \n",
    "\n",
    "This is an activity based on code similar to the Jupyter Notebook **`Practice_MOD03_1-4_IntroPy.ipynb`** and **`Practice_MOD03_1-5_IntroPy.ipynb`** which you may have completed as practice.\n",
    "\n",
    "> **NOTE:** This program requires the use of **`if, elif, else`**, and casting between strings and numbers. The program should use the various code syntax covered in module 3.  \n",
    ">  \n",
    ">The program must result in print output using numeric input similar to that shown in the sample below.\n",
    "\n",
    "## Program: Cheese Order    \n",
    "\n",
    "- set values for maximum and minimum order variables  \n",
    "- set value for price variable\n",
    "- get order_amount input and cast to a number  \n",
    "- check order_amount and give message checking against  \n",
    "  - over maximum\n",
    "  - under minimum\n",
    "- else within maximum and minimum give message with calculated price \n",
    "\n",
    "\n",
    "Sample input and output:\n",
    "```\n",
    "Enter cheese order weight (numeric value): 113\n",
    "113.0 is more than currently available stock\n",
    "```\n",
    "\n",
    "```\n",
    "Enter cheese order weight (numeric value): .15\n",
    "0.15 is below minimum order amount\n",
    "```  \n",
    "\n",
    "```\n",
    "Enter cheese order weight (numeric value): 2\n",
    "2.0 costs $15.98\n",
    "```  "
   ]
  },
  {
   "cell_type": "code",
   "execution_count": 1,
   "metadata": {},
   "outputs": [],
   "source": [
    "# [ ] create, call and test \n",
    "# then PASTE THIS CODE into edX\n",
    "# minimum value of cheese which is sold (g)\n",
    "minimum = 20\n",
    "# stock of cheese(g)\n",
    "maximum = 500\n",
    "# price of cheese in $/kg\n",
    "price=14"
   ]
  },
  {
   "cell_type": "code",
   "execution_count": 16,
   "metadata": {},
   "outputs": [],
   "source": [
    "# define process_cheese_order which takes one number as input\n",
    "def process_cheese_order(order):\n",
    "    if type(order)!=float:\n",
    "        print('Order must be a number.')\n",
    "    elif order < minimum:\n",
    "        print('Minimum order:',str(minimum))\n",
    "    elif order >  maximum:\n",
    "        print('Current stock of cheese: '+str(maximum)+'g')\n",
    "    else:\n",
    "        print(str(order)+' gramms of cheese cost '+str(order*price/1000)+'$')"
   ]
  },
  {
   "cell_type": "code",
   "execution_count": 17,
   "metadata": {},
   "outputs": [
    {
     "name": "stdout",
     "output_type": "stream",
     "text": [
      "How much cheese would you like to buy?66\n",
      "66.0 gramms of cheese cost 0.924$\n"
     ]
    }
   ],
   "source": [
    "order_ammount=float(input('How much cheese would you like to buy?'))\n",
    "process_cheese_order(order_ammount)"
   ]
  },
  {
   "cell_type": "markdown",
   "metadata": {},
   "source": [
    "### Need assignment tips and clarification? \n",
    "See the video on the \"End of Module coding assignment > Module 3 Required Code Description\" course page on [edX](https://courses.edx.org/courses/course-v1:Microsoft+DEV236x+4T2017/course)  \n",
    "\n",
    "# Important:  [How to submit the code in edX by pasting](https://courses.edx.org/courses/course-v1:Microsoft+DEV236x+1T2017/wiki/Microsoft.DEV236x.1T2017/paste-code-end-module-coding-assignments/)"
   ]
  },
  {
   "cell_type": "markdown",
   "metadata": {},
   "source": [
    "[Terms of use](http://go.microsoft.com/fwlink/?LinkID=206977) &nbsp; [Privacy & cookies](https://go.microsoft.com/fwlink/?LinkId=521839) &nbsp; © 2017 Microsoft"
   ]
  }
 ],
 "metadata": {
  "kernelspec": {
   "display_name": "Python 3",
   "language": "python",
   "name": "python3"
  },
  "language_info": {
   "codemirror_mode": {
    "name": "ipython",
    "version": 3
   },
   "file_extension": ".py",
   "mimetype": "text/x-python",
   "name": "python",
   "nbconvert_exporter": "python",
   "pygments_lexer": "ipython3",
   "version": "3.6.7"
  }
 },
 "nbformat": 4,
 "nbformat_minor": 1
}
