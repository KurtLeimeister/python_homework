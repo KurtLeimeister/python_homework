{
 "cells": [
  {
   "cell_type": "markdown",
   "metadata": {},
   "source": [
    "# 1-4.3 Intro Python Practice\n",
    "## Conditionals \n",
    "<font size=\"5\" color=\"#00A0B2\"  face=\"verdana\"> <B>Student will be able to</B></font>  \n",
    "- **control code flow with `if`... `else` conditional logic**  \n",
    "  - using Boolean string methods (`.isupper(), .isalpha(), .startswith()...`)  \n",
    "  - using comparision (`>, <, >=, <=, ==, !=`)  \n",
    "  - using Strings in comparisons  "
   ]
  },
  {
   "cell_type": "markdown",
   "metadata": {},
   "source": [
    "## `if else`\n"
   ]
  },
  {
   "cell_type": "code",
   "execution_count": 3,
   "metadata": {},
   "outputs": [
    {
     "name": "stdout",
     "output_type": "stream",
     "text": [
      "Please enter your age as a number: 22\n",
      "It is goodto be 22\n"
     ]
    }
   ],
   "source": [
    "# [ ] input avariable: age as digit and cast to int\n",
    "# if age greater than or equal to 12 then print message on age in 10 years \n",
    "# or else print message \"It is good to be\" age\n",
    "\n",
    "age = input('Please enter your age as a number: ')\n",
    "\n",
    "if age.isdigit():\n",
    "    if int(age)<=12:\n",
    "        print('In ten years you will be '+str(int(age)+10)+' years old.')\n",
    "    else:\n",
    "        print('It is good to be '+age)\n",
    "else:\n",
    "    print('Age should be a positive natural number')\n"
   ]
  },
  {
   "cell_type": "code",
   "execution_count": 6,
   "metadata": {},
   "outputs": [
    {
     "name": "stdout",
     "output_type": "stream",
     "text": [
      "Please enter a number: 12\n",
      "Greater than 100 is False\n"
     ]
    }
   ],
   "source": [
    "# [ ] input a number \n",
    "# if number IS a digit string then cast to int\n",
    "# print number \"greater than 100 is\" True/False\n",
    "# if number is NOT a digit string then message the user that \"only int is accepted\"\n",
    "number=input('Please enter a number: ')\n",
    "\n",
    "if number.isdigit():\n",
    "    number=int(number)\n",
    "    print('Greater than 100 is '+str(number>100))\n",
    "else:\n",
    "    print('Only integers are accepted')\n"
   ]
  },
  {
   "cell_type": "markdown",
   "metadata": {},
   "source": [
    "### Guessing a letter A-Z  \n",
    "**check_guess()** takes 2 string arguments: **letter and guess** (both expect single alphabetical character)   \n",
    "    - if guess is not an alpha character print invalid and return False\n",
    "    - test and print if guess is \"high\" or \"low\" and return False\n",
    "    - test and print if guess is \"correct\" and return True"
   ]
  },
  {
   "cell_type": "code",
   "execution_count": 22,
   "metadata": {},
   "outputs": [
    {
     "name": "stdout",
     "output_type": "stream",
     "text": [
      "high\n"
     ]
    }
   ],
   "source": [
    "# [ ] create check_guess()\n",
    "# call with test\n",
    "# '123'.__len__() = 3\n",
    "\n",
    "def check_guess(letter, guess):\n",
    "    guess=str(guess)\n",
    "    if not (guess.isalpha() and guess.__len__()==1):\n",
    "        print('Please guess a single letter')\n",
    "    else:\n",
    "        if guess==letter:\n",
    "            print(\"correct\")\n",
    "        else:\n",
    "            if guess>letter:\n",
    "                print(\"high\")\n",
    "            else:\n",
    "                print(\"low\")\n",
    "                \n",
    "# nested if statements, so elegant...."
   ]
  },
  {
   "cell_type": "code",
   "execution_count": 46,
   "metadata": {},
   "outputs": [],
   "source": [
    "# import module to generate random number\n",
    "import random"
   ]
  },
  {
   "cell_type": "code",
   "execution_count": 45,
   "metadata": {},
   "outputs": [
    {
     "name": "stdout",
     "output_type": "stream",
     "text": [
      "We have randomly selected a single letter, please try to guess it.\n",
      "Enter single letter: M\n",
      "low\n"
     ]
    }
   ],
   "source": [
    "# [ ] call check_guess with user input\n",
    "print('We have randomly selected a single letter, please try to guess it.')\n",
    "submission=input('Enter single letter: ')\n",
    "# randomly pick an ASCII character between 65(A) and 91 (Z)\n",
    "random_letter=chr(random.randint(65,91))\n",
    "check_guess(random_letter,submission)"
   ]
  },
  {
   "cell_type": "markdown",
   "metadata": {},
   "source": [
    "### Letter Guess\n",
    "**create letter_guess() function that gives user 3 guesses**\n",
    "- takes a letter character argument for the answer letter\n",
    "- gets user input for letter guess  \n",
    "- calls check_guess() with answer and guess\n",
    "- End letter_guess if \n",
    "    - check_guess() equals True, return True  \n",
    "    - or after 3 failed attempts, return False"
   ]
  },
  {
   "cell_type": "code",
   "execution_count": null,
   "metadata": {
    "collapsed": true
   },
   "outputs": [],
   "source": [
    "# [ ] create letter_guess() function, call the function to test\n",
    "\n",
    "\n"
   ]
  },
  {
   "cell_type": "markdown",
   "metadata": {},
   "source": [
    "### Pet Conversation\n",
    "**ask the user for a sentence about a pet and then reply**  \n",
    "- get user input in variable: about_pet\n",
    "- using a series of **if** statements respond with appropriate conversation\n",
    "  - check if \"dog\" is in the string about_pet (sample reply \"Ah, a dog\")\n",
    "  - check if \"cat\" is in the string about_pet\n",
    "  - check if 1 or more animal is in string about_pet\n",
    "- no need for **else**'s\n",
    "- finish with thanking for the story"
   ]
  },
  {
   "cell_type": "code",
   "execution_count": null,
   "metadata": {
    "collapsed": true
   },
   "outputs": [],
   "source": [
    "# [ ] complete pet conversation\n",
    "\n"
   ]
  },
  {
   "cell_type": "markdown",
   "metadata": {
    "collapsed": true
   },
   "source": [
    "[Terms of use](http://go.microsoft.com/fwlink/?LinkID=206977) &nbsp; [Privacy & cookies](https://go.microsoft.com/fwlink/?LinkId=521839) &nbsp; © 2017 Microsoft"
   ]
  }
 ],
 "metadata": {
  "anaconda-cloud": {},
  "kernelspec": {
   "display_name": "Python 3",
   "language": "python",
   "name": "python3"
  },
  "language_info": {
   "codemirror_mode": {
    "name": "ipython",
    "version": 3
   },
   "file_extension": ".py",
   "mimetype": "text/x-python",
   "name": "python",
   "nbconvert_exporter": "python",
   "pygments_lexer": "ipython3",
   "version": "3.5.6"
  }
 },
 "nbformat": 4,
 "nbformat_minor": 1
}
