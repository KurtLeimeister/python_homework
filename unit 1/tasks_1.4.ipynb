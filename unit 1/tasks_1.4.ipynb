{
 "cells": [
  {
   "cell_type": "markdown",
   "metadata": {},
   "source": [
    "### 1-1.4 Intro Python\n",
    "Kurt\n",
    "#### Task 1"
   ]
  },
  {
   "cell_type": "code",
   "execution_count": 1,
   "metadata": {},
   "outputs": [
    {
     "data": {
      "text/plain": [
       "6"
      ]
     },
     "execution_count": 1,
     "metadata": {},
     "output_type": "execute_result"
    }
   ],
   "source": [
    "# [ ] add 3 integer numbers\n",
    "# really nothing to add here\n",
    "1+2+3"
   ]
  },
  {
   "cell_type": "code",
   "execution_count": 3,
   "metadata": {},
   "outputs": [
    {
     "data": {
      "text/plain": [
       "2.0"
      ]
     },
     "execution_count": 3,
     "metadata": {},
     "output_type": "execute_result"
    }
   ],
   "source": [
    "# [ ] add a float number and an integer number\n",
    "# Why am I copying all these comments from another workbook...\n",
    "# I hope one day I will be able to script that\n",
    "1+1.0"
   ]
  },
  {
   "cell_type": "code",
   "execution_count": 5,
   "metadata": {},
   "outputs": [
    {
     "data": {
      "text/plain": [
       "'This notebook belongs to snorlax'"
      ]
     },
     "execution_count": 5,
     "metadata": {},
     "output_type": "execute_result"
    }
   ],
   "source": [
    "# [ ] Add the string \"This notebook belongs to \" and a string with your first name\n",
    "owner = \"snorlax\"\n",
    "\"This notebook belongs to \"+owner"
   ]
  },
  {
   "cell_type": "code",
   "execution_count": 6,
   "metadata": {},
   "outputs": [
    {
     "data": {
      "text/plain": [
       "3"
      ]
     },
     "execution_count": 6,
     "metadata": {},
     "output_type": "execute_result"
    }
   ],
   "source": [
    "# [ ] Create variables sm_number and big_number and assign numbers then add the numbers\n",
    "\n",
    "sm_number, big_number = 1,2\n",
    "sm_number+big_number"
   ]
  },
  {
   "cell_type": "code",
   "execution_count": 7,
   "metadata": {},
   "outputs": [
    {
     "name": "stdout",
     "output_type": "stream",
     "text": [
      "Donald, remember to save the notebook frequently\n"
     ]
    }
   ],
   "source": [
    "# [ ] assign a string value to the variable first_name and add to the string \", remember to save the notebook frequently\"\n",
    "first_name = 'Don'\n",
    "second_syllable = 'ald'\n",
    "first_name+= second_syllable\n",
    "print(first_name + \", remember to save the notebook frequently\")"
   ]
  },
  {
   "cell_type": "markdown",
   "metadata": {},
   "source": [
    "#### Task 2 - more addition"
   ]
  },
  {
   "cell_type": "code",
   "execution_count": 12,
   "metadata": {},
   "outputs": [
    {
     "name": "stdout",
     "output_type": "stream",
     "text": [
      "My favorite food is poutine\n"
     ]
    }
   ],
   "source": [
    "# [ ] perform string addition in the variable named new_msg (add a string to \"my favorite food is \")\n",
    "new_msg = \"My favorite food is\"\n",
    "print(new_msg + ' poutine')"
   ]
  },
  {
   "cell_type": "code",
   "execution_count": 13,
   "metadata": {},
   "outputs": [
    {
     "name": "stdout",
     "output_type": "stream",
     "text": [
      "42\n"
     ]
    }
   ],
   "source": [
    "# [ ] perform Integer addition in the variable named new_msg (add 2 or more Integers)\n",
    "new_sum =   10 + 20 + 12\n",
    "print(new_sum)"
   ]
  },
  {
   "cell_type": "code",
   "execution_count": 16,
   "metadata": {},
   "outputs": [
    {
     "name": "stdout",
     "output_type": "stream",
     "text": [
      "This is how we do it\n"
     ]
    }
   ],
   "source": [
    "# [ ] create and print a new string variable, new_msg_2, that concatenates new_msg + a literal string\n",
    "new_msg = \"This is \"\n",
    "new_msg_2 = new_msg + \"how we do it\"\n",
    "print(new_msg_2)"
   ]
  },
  {
   "cell_type": "markdown",
   "metadata": {},
   "source": [
    "#### Task 3 - Type errors"
   ]
  },
  {
   "cell_type": "code",
   "execution_count": 20,
   "metadata": {},
   "outputs": [
    {
     "name": "stdout",
     "output_type": "stream",
     "text": [
      "48.0\n"
     ]
    }
   ],
   "source": [
    "# [ ] review and run the code - then fix any Errors\n",
    "# adding costs should probably done in floats\n",
    "# concatenating strings for cost calculation would be... inefficient\n",
    "total_cost = 3 + float(\"45\")\n",
    "print(total_cost)"
   ]
  },
  {
   "cell_type": "code",
   "execution_count": 21,
   "metadata": {},
   "outputs": [
    {
     "name": "stdout",
     "output_type": "stream",
     "text": [
      "the street number of Central School is 123\n"
     ]
    }
   ],
   "source": [
    "# [ ] review and run the code - then fix any Errors\n",
    "# however for addresses, string concatenation seems to be good\n",
    "school_num = 123\n",
    "print(\"the street number of Central School is \" + str(school_num))\n"
   ]
  },
  {
   "cell_type": "code",
   "execution_count": 23,
   "metadata": {},
   "outputs": [
    {
     "name": "stdout",
     "output_type": "stream",
     "text": [
      "<class 'float'>\n",
      "<class 'int'>\n",
      "6.3\n",
      "<class 'float'>\n",
      "<class 'int'>\n"
     ]
    }
   ],
   "source": [
    "# [ ] Read and run the code - write a hypothesis for what you observe adding float + int\n",
    "#  [ ] HYPOTHESIS: float\n",
    "\n",
    "print(type(3.3))\n",
    "print(type(3))\n",
    "print(3.3 + 3)\n",
    "print(type(3.3+3))\n",
    "# around the world I round the wooorld\n",
    "print(type(round(3.3+3)))\n"
   ]
  },
  {
   "cell_type": "markdown",
   "metadata": {},
   "source": [
    "#### Task 4: Syntax errors"
   ]
  },
  {
   "cell_type": "code",
   "execution_count": 24,
   "metadata": {},
   "outputs": [
    {
     "name": "stdout",
     "output_type": "stream",
     "text": [
      "my socks do not match\n"
     ]
    }
   ],
   "source": [
    "# [ ] repair the syntax error \n",
    "print(\"my socks do not match\") "
   ]
  },
  {
   "cell_type": "code",
   "execution_count": 25,
   "metadata": {},
   "outputs": [
    {
     "name": "stdout",
     "output_type": "stream",
     "text": [
      "my socks match now\n"
     ]
    }
   ],
   "source": [
    "# [ ] repair the NameError\n",
    "# looks like pront was not defined - let's fix that\n",
    "def pront(x): print(x)\n",
    "pront(\"my socks match now\") "
   ]
  },
  {
   "cell_type": "code",
   "execution_count": 26,
   "metadata": {},
   "outputs": [
    {
     "name": "stdout",
     "output_type": "stream",
     "text": [
      "Save the notebook frequently\n"
     ]
    }
   ],
   "source": [
    "# [ ] repair the syntax error\n",
    "# closing parantheses are important\n",
    "# I am no longer sure what was the problem here\n",
    "# guess I should comment more...\n",
    "print(\"Save the notebook frequently\")"
   ]
  },
  {
   "cell_type": "code",
   "execution_count": 27,
   "metadata": {},
   "outputs": [
    {
     "name": "stdout",
     "output_type": "stream",
     "text": [
      "Alton\n"
     ]
    }
   ],
   "source": [
    "# [ ] repair the NameError\n",
    "# variable names are case sensitive - converted to lowercase\n",
    "student_name = \"Alton\"\n",
    "print(student_name)"
   ]
  },
  {
   "cell_type": "code",
   "execution_count": 28,
   "metadata": {},
   "outputs": [
    {
     "name": "stdout",
     "output_type": "stream",
     "text": [
      "3 students are signed up for tutoring\n"
     ]
    }
   ],
   "source": [
    "# [ ] repair the TypeError\n",
    "# ashes to ashes, strings added to strings\n",
    "total = 3\n",
    "print(str(total) + \" students are signed up for tutoring\")"
   ]
  },
  {
   "cell_type": "code",
   "execution_count": null,
   "metadata": {},
   "outputs": [],
   "source": []
  }
 ],
 "metadata": {
  "kernelspec": {
   "display_name": "Python 3",
   "language": "python",
   "name": "python3"
  },
  "language_info": {
   "codemirror_mode": {
    "name": "ipython",
    "version": 3
   },
   "file_extension": ".py",
   "mimetype": "text/x-python",
   "name": "python",
   "nbconvert_exporter": "python",
   "pygments_lexer": "ipython3",
   "version": "3.7.0"
  }
 },
 "nbformat": 4,
 "nbformat_minor": 2
}
