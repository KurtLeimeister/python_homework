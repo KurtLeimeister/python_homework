{
 "cells": [
  {
   "cell_type": "markdown",
   "metadata": {},
   "source": [
    "# 1-2 Intro Python Practice\n",
    "## Strings: input, testing, formatting\n",
    "<font size=\"5\" color=\"#00A0B2\"  face=\"verdana\"> <B>Student will be able to</B></font>\n",
    "- gather, store and use string `input()`  \n",
    "- format `print()` output  \n",
    "- test string characteristics  \n",
    "- format string output  \n",
    "- search for a string in a string  "
   ]
  },
  {
   "cell_type": "markdown",
   "metadata": {},
   "source": [
    "## input()\n",
    "getting input from users"
   ]
  },
  {
   "cell_type": "code",
   "execution_count": 1,
   "metadata": {
    "scrolled": true
   },
   "outputs": [
    {
     "name": "stdout",
     "output_type": "stream",
     "text": [
      "Something to be reinded of: birthdays\n",
      "birthdays\n"
     ]
    }
   ],
   "source": [
    "# [ ] get user input for a variable named remind_me\n",
    "remind_me=input('Something to be reinded of: ')\n",
    "\n",
    "# [ ] print the value of the variable remind_me\n",
    "print(remind_me)\n"
   ]
  },
  {
   "cell_type": "code",
   "execution_count": 2,
   "metadata": {},
   "outputs": [
    {
     "name": "stdout",
     "output_type": "stream",
     "text": [
      "remember: birthdays\n"
     ]
    }
   ],
   "source": [
    "# use string addition to print \"remember: \" before the remind_me input string\n",
    "print('remember: '+remind_me)\n"
   ]
  },
  {
   "cell_type": "markdown",
   "metadata": {},
   "source": [
    "### Program: Meeting Details\n",
    "#### [ ] get user **input** for meeting subject and time\n",
    "`what is the meeting subject?: plan for graduation`  \n",
    "`what is the meeting time?: 3:00 PM on Monday`  \n",
    "\n",
    "#### [ ] print **output** with descriptive labels  \n",
    "`Meeting Subject: plan for graduation`  \n",
    "`Meeting Time:    3:00 PM on Monday`"
   ]
  },
  {
   "cell_type": "code",
   "execution_count": 3,
   "metadata": {},
   "outputs": [
    {
     "name": "stdout",
     "output_type": "stream",
     "text": [
      "Please provide details about the planned meeting\n",
      "Subject of the meeting: procrastinating 2.1\n",
      "Time of the meeting: maybe tomorrow\n",
      "Meeting Subject: procrastinating 2.1\n",
      "Meeting time:    maybe tomorrow\n"
     ]
    }
   ],
   "source": [
    "# [ ] get user input for 2 variables: meeting_subject and meeting_time\n",
    "print('Please provide details about the planned meeting')\n",
    "meeting_subject=input('Subject of the meeting: ')\n",
    "meeting_time=input('Time of the meeting: ')\n",
    "# [ ] use string addition to print meeting subject and time with labels\n",
    "print('Meeting Subject: '+meeting_subject)\n",
    "print('Meeting time:    '+meeting_time)"
   ]
  },
  {
   "cell_type": "markdown",
   "metadata": {
    "collapsed": true
   },
   "source": [
    "## print() formatting \n",
    "### combining multiple strings separated by commas in the print() function"
   ]
  },
  {
   "cell_type": "code",
   "execution_count": 4,
   "metadata": {},
   "outputs": [
    {
     "name": "stdout",
     "output_type": "stream",
     "text": [
      "Wednesday is in the middle of the week\n"
     ]
    }
   ],
   "source": [
    "# [ ] print the combined strings \"Wednesday is\" and \"in the middle of the week\" \n",
    "print(\"Wednesday is\" , \"in the middle of the week\" )"
   ]
  },
  {
   "cell_type": "code",
   "execution_count": 5,
   "metadata": {},
   "outputs": [
    {
     "name": "stdout",
     "output_type": "stream",
     "text": [
      "Remember to birthdays\n"
     ]
    }
   ],
   "source": [
    "# [ ] print combined string \"Remember to\" and the string variable remind_me from input above\n",
    "# I guess a noun was not expected as a value of remind_me ...\n",
    "print(\"Remember to\", remind_me)"
   ]
  },
  {
   "cell_type": "code",
   "execution_count": 7,
   "metadata": {},
   "outputs": [
    {
     "name": "stdout",
     "output_type": "stream",
     "text": [
      "Could we also discuss birthdays at the meeting regarding procrastinating 2.1 at maybe tomorrow ?\n"
     ]
    }
   ],
   "source": [
    "# [ ] Combine 3 variables from above with multiple strings\n",
    "# I should state a requirement for the format of meeting_time... too late\n",
    "print('Could we also discuss',remind_me,'at the meeting regarding',\\\n",
    "      meeting_subject,'at',meeting_time,'?')"
   ]
  },
  {
   "cell_type": "markdown",
   "metadata": {
    "collapsed": true
   },
   "source": [
    "### print() quotation marks"
   ]
  },
  {
   "cell_type": "code",
   "execution_count": 8,
   "metadata": {},
   "outputs": [
    {
     "name": "stdout",
     "output_type": "stream",
     "text": [
      "I'm dancing in the rain.\n"
     ]
    }
   ],
   "source": [
    "# [ ] print a string sentence that will display an Apostrophe (')\n",
    "print(\"I'm dancing in the rain.\")"
   ]
  },
  {
   "cell_type": "code",
   "execution_count": 9,
   "metadata": {},
   "outputs": [
    {
     "name": "stdout",
     "output_type": "stream",
     "text": [
      "Kurt said: \"I'm dancing in the rain\"\n"
     ]
    }
   ],
   "source": [
    "# [ ] print a string sentence that will display a quote(\") or quotes\n",
    "print(\"Kurt said: \\\"I'm dancing in the rain\\\"\")"
   ]
  },
  {
   "cell_type": "markdown",
   "metadata": {
    "collapsed": true
   },
   "source": [
    "## Boolean string tests"
   ]
  },
  {
   "cell_type": "markdown",
   "metadata": {},
   "source": [
    "### Vehicle tests  \n",
    "#### get user input for a variable named vehicle  \n",
    "print the following tests results  \n",
    "- check True or False if vehicle is All alphabetical characters using .isalpha()  \n",
    "- check True or False if vehicle is only All alphabetical & numeric characters  \n",
    "- check True or False if vehicle is Capitalized (first letter only)  \n",
    "- check True or False if vehicle is All lowercase  \n",
    "- **bonus** print description for each test (e.g.- `\"All Alpha: True\"`)"
   ]
  },
  {
   "cell_type": "code",
   "execution_count": 11,
   "metadata": {},
   "outputs": [
    {
     "name": "stdout",
     "output_type": "stream",
     "text": [
      "Please enter vehicle name: Trabi2\n",
      "Vehicle contains only alphabetical characters:  False\n",
      "Vehicle contains is only alphabetical & numeric characters:  True\n",
      "Variable vehicle is Capitalized:  True\n",
      "Vehicle contains only lowercase and non-alphabetical characters:  False\n"
     ]
    }
   ],
   "source": [
    "# [ ] complete vehicle tests \n",
    "# set 'vehicle' from user input\n",
    "vehicle=input('Please enter vehicle name: ')\n",
    "print('Vehicle contains only alphabetical characters: ', vehicle.isalpha())\n",
    "print('Vehicle contains is only alphabetical & numeric characters: ', vehicle.isalnum())\n",
    "print('Variable vehicle is Capitalized: ', vehicle == vehicle.capitalize())\n",
    "print('Vehicle contains only lowercase and non-alphabetical characters: ', vehicle.islower())"
   ]
  },
  {
   "cell_type": "code",
   "execution_count": 12,
   "metadata": {},
   "outputs": [
    {
     "name": "stdout",
     "output_type": "stream",
     "text": [
      "The string \"color\" starts with the letter \"b\":  False\n"
     ]
    }
   ],
   "source": [
    "# [ ] print True or False if color starts with \"b\" \n",
    "print('The string \"color\" starts with the letter \"b\": ', 'color'.startswith('b'))"
   ]
  },
  {
   "cell_type": "markdown",
   "metadata": {},
   "source": [
    "## Sting formatting"
   ]
  },
  {
   "cell_type": "code",
   "execution_count": 13,
   "metadata": {},
   "outputs": [
    {
     "name": "stdout",
     "output_type": "stream",
     "text": [
      "The time is noon.\n"
     ]
    }
   ],
   "source": [
    "# [ ] print the string variable capital_this Capitalizing only the first letter\n",
    "capitalize_this = \"the TIME is Noon.\"\n",
    "print(capitalize_this.capitalize())\n"
   ]
  },
  {
   "cell_type": "code",
   "execution_count": 14,
   "metadata": {},
   "outputs": [
    {
     "name": "stdout",
     "output_type": "stream",
     "text": [
      "Who WRITES like This?\n"
     ]
    }
   ],
   "source": [
    "# print the string variable swap_this in swapped case\n",
    "swap_this = \"wHO writes LIKE tHIS?\"\n",
    "\n",
    "print(swap_this.swapcase())"
   ]
  },
  {
   "cell_type": "code",
   "execution_count": 15,
   "metadata": {},
   "outputs": [
    {
     "name": "stdout",
     "output_type": "stream",
     "text": [
      "can you hear me?\n"
     ]
    }
   ],
   "source": [
    "# print the string variable whisper_this in all lowercase\n",
    "whisper_this = \"Can you hear me?\"\n",
    "\n",
    "print(whisper_this.lower())"
   ]
  },
  {
   "cell_type": "code",
   "execution_count": 16,
   "metadata": {},
   "outputs": [
    {
     "name": "stdout",
     "output_type": "stream",
     "text": [
      "CAN YOU HEAR ME NOW!?\n"
     ]
    }
   ],
   "source": [
    "# print the string variable yell_this in all UPPERCASE\n",
    "yell_this = \"Can you hear me Now!?\"\n",
    "\n",
    "print(yell_this.upper())"
   ]
  },
  {
   "cell_type": "code",
   "execution_count": 17,
   "metadata": {},
   "outputs": [
    {
     "name": "stdout",
     "output_type": "stream",
     "text": [
      "enter a string to reformat: String234!\n",
      "Uppercase version of string:    STRING234!\n",
      "Lowercase version of string:    string234!\n",
      "String with swapped case:       sTRING234!\n",
      "Capitalized version of string:  String234!\n"
     ]
    }
   ],
   "source": [
    "#format input using .upper(), .lower(), .swapcase, .capitalize()\n",
    "format_input = input('enter a string to reformat: ')\n",
    "\n",
    "print('Uppercase version of string:   ', format_input.upper())\n",
    "print('Lowercase version of string:   ', format_input.lower())\n",
    "print('String with swapped case:      ', format_input.swapcase())\n",
    "print('Capitalized version of string: ', format_input.capitalize())"
   ]
  },
  {
   "cell_type": "markdown",
   "metadata": {},
   "source": [
    "### input() formatting"
   ]
  },
  {
   "cell_type": "code",
   "execution_count": 18,
   "metadata": {},
   "outputs": [
    {
     "name": "stdout",
     "output_type": "stream",
     "text": [
      "Please enter the name of a color: oRaNGe\n",
      "orange\n"
     ]
    }
   ],
   "source": [
    "# [ ] get user input for a variable named color\n",
    "# [ ] modify color to be all lowercase and print\n",
    "color=input('Please enter the name of a color: ')\n",
    "print(color.lower())"
   ]
  },
  {
   "cell_type": "code",
   "execution_count": 19,
   "metadata": {},
   "outputs": [
    {
     "name": "stdout",
     "output_type": "stream",
     "text": [
      "Something to be reminded of: WHY ARE ALL THOSE LETTERS SO BIG I AM... oh, that was the capslock key\n",
      "why are all those letters so big i am... oh, that was the capslock key\n"
     ]
    }
   ],
   "source": [
    "# [ ] get user input using variable remind_me and format to all **lowercase** and print\n",
    "# [ ] test using input with mixed upper and lower cases\n",
    "remind_me=input('Something to be reminded of: ').lower()\n",
    "print(remind_me)"
   ]
  },
  {
   "cell_type": "code",
   "execution_count": 20,
   "metadata": {},
   "outputs": [
    {
     "name": "stdout",
     "output_type": "stream",
     "text": [
      "Please enter a word that contains lowercase characters: Tokyo Hotel\n",
      "TOKYO HOTEL\n"
     ]
    }
   ],
   "source": [
    "# [] get user input for the variable yell_this and format as a \"YELL\" to ALL CAPS\n",
    "# oh oh, we already have a global variable with this name... proceeding with caution\n",
    "yell_this = input('Please enter a word that contains lowercase characters: ').upper()\n",
    "print(yell_this)"
   ]
  },
  {
   "cell_type": "markdown",
   "metadata": {},
   "source": [
    "## \"in\" keyword\n",
    "### boolean: short_str in long_str"
   ]
  },
  {
   "cell_type": "code",
   "execution_count": 26,
   "metadata": {},
   "outputs": [
    {
     "name": "stdout",
     "output_type": "stream",
     "text": [
      "This program allows you to add the names of animals to a list\n",
      "If you are done adding animals, just press enter\n",
      "Enter the name of an animal: Dolphin\n",
      "Enter the name of an animal: Caterpillar\n",
      "Enter the name of an animal: Cat\n",
      "Enter the name of an animal: Horse\n",
      "Enter the name of an animal: \n"
     ]
    }
   ],
   "source": [
    "# [ ] get user input for the name of some animals in the variable animals_input\n",
    "animals_input = ''\n",
    "animal_bool = True\n",
    "# well... it's not a list, but close enough\n",
    "print('This program allows you to add the names of animals to a list')\n",
    "print('If you are done adding animals, just press enter')\n",
    "while animal_bool:\n",
    "    new_animal = input('Enter the name of an animal: ').lower()\n",
    "    animal_bool=bool(new_animal)\n",
    "    if animal_bool:\n",
    "        animals_input += new_animal + \" \"\n",
    "    else:\n",
    "        break"
   ]
  },
  {
   "cell_type": "code",
   "execution_count": 31,
   "metadata": {},
   "outputs": [
    {
     "name": "stdout",
     "output_type": "stream",
     "text": [
      "Cat is contained in animals_input:  True\n"
     ]
    }
   ],
   "source": [
    "# [ ] print true or false if 'cat' is in the string variable animals_input\n",
    "# check for capitalization is during input .lower()\n",
    "print('Cat is contained in animals_input: ', ' cat ' in animals_input)"
   ]
  },
  {
   "cell_type": "code",
   "execution_count": null,
   "metadata": {},
   "outputs": [],
   "source": []
  },
  {
   "cell_type": "code",
   "execution_count": 33,
   "metadata": {},
   "outputs": [
    {
     "name": "stdout",
     "output_type": "stream",
     "text": [
      "Please enter a color: Blue\n",
      "False\n",
      "Blue\n"
     ]
    }
   ],
   "source": [
    "# [ ] get user input for color\n",
    "color=input('Please enter a color: ')\n",
    "\n",
    "# [ ] print True or False for starts with \"b\"\n",
    "print(color.startswith('b'))\n",
    "\n",
    "# [ ] print color variable value exactly as input \n",
    "#     test with input: \"Blue\", \"BLUE\", \"bLUE\"\n",
    "print(color)"
   ]
  },
  {
   "cell_type": "code",
   "execution_count": 34,
   "metadata": {},
   "outputs": [
    {
     "name": "stdout",
     "output_type": "stream",
     "text": [
      "Please enter a color: BLUE\n",
      "BLUE\n"
     ]
    }
   ],
   "source": [
    "# [ ] get user input for color\n",
    "color=input('Please enter a color: ')\n",
    "\n",
    "# test with \"BLUE\", \"bLUE\"\n",
    "print(color)"
   ]
  },
  {
   "cell_type": "code",
   "execution_count": 35,
   "metadata": {},
   "outputs": [
    {
     "name": "stdout",
     "output_type": "stream",
     "text": [
      "Please enter a color: bLUE\n",
      "bLUE\n"
     ]
    }
   ],
   "source": [
    "# [ ] get user input for color\n",
    "color=input('Please enter a color: ')\n",
    "\n",
    "# test with \"BLUE\", \"bLUE\"\n",
    "print(color)"
   ]
  },
  {
   "cell_type": "markdown",
   "metadata": {},
   "source": [
    "## Program: guess what I'm reading\n",
    "### short_str in long_str\n",
    "\n",
    "1. **[ ]** get user **`input`** for a single word describing something that can be read \n",
    " save in a variable called **can_read**  \n",
    " e.g. - \"website\", \"newspaper\", \"blog\", \"textbook\"  \n",
    " &nbsp;  \n",
    "2. **[ ]** get user **`input`** for 3 things can be read  \n",
    " save in a variable called **can_read_things**  \n",
    "&nbsp;  \n",
    "\n",
    "3. **[ ]** print **`true`** if the **can_read** string is found  \n",
    " **in** the **can_read_things** string variable\n",
    "  \n",
    "*example of program input and output*  \n",
    "[![01 02 practice Allergy-input](https://iajupyterprodblobs.blob.core.windows.net/imagecontainer/guess_reading.gif) ](https://1drv.ms/i/s!Am_KPRosgtaij7A_G6RtDlWZeYA3ZA)\n"
   ]
  },
  {
   "cell_type": "code",
   "execution_count": 37,
   "metadata": {},
   "outputs": [
    {
     "name": "stdout",
     "output_type": "stream",
     "text": [
      "Something that can be read: mind\n",
      "\n",
      "Please enter 3 things that can be read, separated by a comma\n",
      "Format: thing A, thing B, thing C\n",
      "3 items which can be read: book, magazine, sensor\n",
      "False\n",
      "item found = False\n"
     ]
    }
   ],
   "source": [
    "# project: \"guess what I'm reading\"\n",
    "\n",
    "# 1[ ] get 1 word input for can_read variable\n",
    "can_read = input('Something that can be read: ')\n",
    "\n",
    "# 2[ ] get 3 things input for can_read_things variable\n",
    "print()\n",
    "print('Please enter 3 things that can be read, separated by a comma')\n",
    "print('Format: thing A, thing B, thing C')\n",
    "can_read_things = input('3 items which can be read: ')\n",
    "\n",
    "# 3[ ] print True if can_read is in can_read_things\n",
    "\n",
    "print(can_read in can_read_things)\n",
    "# [] challenge: format the output to read \"item found = True\" (or false)\n",
    "# hint: look print formatting exercises\n",
    "\n",
    "print('item found =', can_read in can_read_things)"
   ]
  },
  {
   "cell_type": "markdown",
   "metadata": {},
   "source": [
    "## Program: Allergy Check\n",
    "\n",
    "1. **[ ]** get user **`input`** for categories of food eaten in the last 24 hours  \n",
    " save in a variable called **input_test**  \n",
    " *example input*\n",
    " [![01 02 practice Allergy-input](https://iajupyterprodblobs.blob.core.windows.net/imagecontainer/eaten_input.gif) ](https://1drv.ms/i/s!Am_KPRosgtaij65qzFD5CGvv95-ijg)\n",
    "&nbsp;  \n",
    "2. **[ ]** print **`True`** if \"dairy\" is in the **input_test** string  \n",
    "**[ ]** Test the code so far  \n",
    "&nbsp;\n",
    "3. **[ ]** modify the print statement to output similar to below  \n",
    "*example output*\n",
    "[![01 02 Allergy output](https://iajupyterprodblobs.blob.core.windows.net/imagecontainer/eaten_output.gif) ](https://1drv.ms/i/s!Am_KPRosgtaij65rET-wmlpCdMX7CQ)  \n",
    "Test the code so far trying input including the string \"dairy\" and without  \n",
    "&nbsp;  \n",
    "\n",
    "4. **[ ]** repeat the process checking the input for \"nuts\", **challenge** add \"Seafood\" and \"chocolate\"  \n",
    "**[ ]** Test your code  \n",
    "&nbsp;  \n",
    "  \n",
    "5. **[ ] challenge:** make your code work for input regardless of case, e.g. - print **`True`** for \"Nuts\", \"NuTs\", \"NUTS\" or \"nuts\"  \n"
   ]
  },
  {
   "cell_type": "code",
   "execution_count": 61,
   "metadata": {},
   "outputs": [
    {
     "name": "stdout",
     "output_type": "stream",
     "text": [
      "What did you eat during the last 24h?: marmalade, bacon, peanut butter, avocado\n",
      "dairy contained:  False\n",
      "nuts contained:  True\n",
      "seafood contained:  False\n",
      "chocolate contained:  False\n",
      "\n",
      "Contains known allergens: True\n"
     ]
    }
   ],
   "source": [
    "# Allergy check \n",
    "\n",
    "# 1[ ] get input for test\n",
    "input_test =  input('What did you eat during the last 24h?: ')\n",
    "#input_test=\"seafood, dairy, nuts, chocolate and pork\"\n",
    "\n",
    "# 2/3[ ] print True if \"dairy\" is in the input or False if not\n",
    "cont_dairy = 'dairy' in input_test.lower()\n",
    "print('dairy contained: ',cont_dairy)\n",
    "# 4[ ] Check if \"nuts\" are in the input\n",
    "# cont_nuts='nuts'in input_test.lower()\n",
    "cont_nuts='nut'in input_test.lower()\n",
    "print('nuts contained: ',cont_nuts)\n",
    "# 4+[ ] Challenge: Check if \"seafood\" is in the input\n",
    "cont_seafood='seafood'in input_test.lower()\n",
    "print('seafood contained: ',cont_seafood)\n",
    "# 4+[ ] Challenge: Check if \"chocolate\" is in the input\n",
    "cont_chocolate = 'chocolate' in input_test.lower()\n",
    "print('chocolate contained: ', cont_chocolate)\n",
    "# 5: any allergens contained\n",
    "cont_allergens = cont_dairy | cont_nuts | cont_seafood | cont_chocolate\n",
    "print()\n",
    "print('Contains known allergens:', cont_allergens)\n"
   ]
  },
  {
   "cell_type": "code",
   "execution_count": 63,
   "metadata": {},
   "outputs": [
    {
     "name": "stdout",
     "output_type": "stream",
     "text": [
      "Your diet contained the following known allergens:\n",
      "nuts\n"
     ]
    }
   ],
   "source": [
    "# 6: list which allergens are contained\n",
    "# looking at it now, a simple of the strings would have been simpler\n",
    "allergens_list=[[cont_dairy,'dairy'],[cont_nuts,'nuts'],[cont_seafood,'seafood'],\\\n",
    "[cont_chocolate,'chocolate']]\n",
    "print('Your diet contained the following known allergens:')\n",
    "for a in allergens_list:\n",
    "    if a[0]:\n",
    "        print(a[1])"
   ]
  },
  {
   "cell_type": "markdown",
   "metadata": {},
   "source": [
    "[Terms of use](http://go.microsoft.com/fwlink/?LinkID=206977) &nbsp; [Privacy & cookies](https://go.microsoft.com/fwlink/?LinkId=521839) &nbsp; © 2017 Microsoft"
   ]
  }
 ],
 "metadata": {
  "anaconda-cloud": {},
  "kernelspec": {
   "display_name": "Python 3",
   "language": "python",
   "name": "python3"
  },
  "language_info": {
   "codemirror_mode": {
    "name": "ipython",
    "version": 3
   },
   "file_extension": ".py",
   "mimetype": "text/x-python",
   "name": "python",
   "nbconvert_exporter": "python",
   "pygments_lexer": "ipython3",
   "version": "3.5.6"
  }
 },
 "nbformat": 4,
 "nbformat_minor": 1
}
